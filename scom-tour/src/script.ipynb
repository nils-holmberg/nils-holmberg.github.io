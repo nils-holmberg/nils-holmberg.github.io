{
 "cells": [
  {
   "cell_type": "markdown",
   "metadata": {
    "lines_to_next_cell": 0
   },
   "source": []
  },
  {
   "cell_type": "code",
   "execution_count": null,
   "metadata": {
    "lines_to_next_cell": 0
   },
   "outputs": [],
   "source": [
    "#~ ##################################################################### 201106\n",
    "#resume, results for publication\n",
    "\n",
    "#library(rmarkdown)\n",
    "input=\"src/scom-tour.ipynb\"\n",
    "rmarkdown:::convert_ipynb(input, output=xfun::with_ext(input, \"Rmd\"))\n",
    "\n",
    "\n",
    "\n",
    "\n",
    "#spin script to rmd\n",
    "#knitr::spin('tmp/script.R', knit=FALSE)\n",
    "#echo \"knitr::spin('\"$(head -n46 src/survey.R)\"', knit=FALSE)\" | R --slave\n",
    "#echo \"knitr::spin('tmp/script.R', knit=FALSE)\" | R --slave\n",
    "#Rscript -e \"knitr::spin('tmp/script.R', knit=FALSE)\"\n",
    "\n",
    "#read csv\n",
    "dfc = read.table(\"csv/survey-200922.csv\", sep='\\t', header=T, strip.white=TRUE)\n",
    "\n",
    "\n",
    "#~ ##################################################################### 200922\n",
    "#regression models\n",
    "\n",
    "\n",
    "#export csv\n",
    "#write.table(dfc, \"csv/survey-200922.csv\", sep=\"\\t\", row.names=F)\n",
    "\n",
    "\n",
    "#~ ##################################################################### 200917\n",
    "#regression models\n",
    "library(lme4)\n",
    "#library(performance)\n",
    "\n",
    "#fix colnames\n",
    "colnames(dfc)[c(53,54,64,67,68,69,71)] = c(\"demo_age\",\"demo_gender\",\"demo_nationality\",\"gen_trav_sum\",\"gen_trav_int\",\"gen_trav_bin\",\"dest_trav_int\")\n",
    "#remove gender value 3 !\n",
    "dfc$demo_gender = as.factor(ifelse(dfc$demo_gender==3, NA, dfc$demo_gender))\n",
    "#travel binary\n",
    "dfc$trav_freq_bin = ifelse(dfc$trav_freq_int==1, 1, 2)\n",
    "#remove response value 6 !\n",
    "dfc$dest_sec = ifelse(dfc$VAR04_15==6, NA, dfc$VAR04_15)\n",
    "#mean index ?\n",
    "#dfc$dest_sec_mean = rowMeans(dfc[, 22])\n",
    "#destination travelling frequency\n",
    "dfc$dest_freq_int = dfc$VAR01"
   ]
  },
  {
   "cell_type": "markdown",
   "metadata": {},
   "source": []
  }
 ],
 "metadata": {
  "jupytext": {
   "cell_metadata_filter": "-all",
   "main_language": "R",
   "notebook_metadata_filter": "-all"
  }
 },
 "nbformat": 4,
 "nbformat_minor": 4
}
